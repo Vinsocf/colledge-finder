{
  "nbformat": 4,
  "nbformat_minor": 0,
  "metadata": {
    "colab": {
      "name": "Student Portfolio.ipynb",
      "provenance": [],
      "authorship_tag": "ABX9TyPiOuM7jxlgCDvRRhJl/K0L",
      "include_colab_link": true
    },
    "kernelspec": {
      "name": "python3",
      "display_name": "Python 3"
    },
    "language_info": {
      "name": "python"
    }
  },
  "cells": [
    {
      "cell_type": "markdown",
      "metadata": {
        "id": "view-in-github",
        "colab_type": "text"
      },
      "source": [
        "<a href=\"https://colab.research.google.com/github/Vinsocf/colledge-finder/blob/main/Student_Portfolio.ipynb\" target=\"_parent\"><img src=\"https://colab.research.google.com/assets/colab-badge.svg\" alt=\"Open In Colab\"/></a>"
      ]
    },
    {
      "cell_type": "code",
      "metadata": {
        "colab": {
          "base_uri": "https://localhost:8080/"
        },
        "id": "x4QTmCODoK0f",
        "outputId": "8ea1a694-6797-4ecc-a975-6b8c2e0a400c"
      },
      "source": [
        "\n",
        "firstName = str(input(\"Enter your first name: \"))\n",
        "lastName = str(input(\"Enter your last name: \"))\n",
        "standard = str(input(\"Enter your standard: \"))\n",
        "division = str(input(\"Enter your standards' division: \"))\n",
        "\n",
        "rollNo = int(input(\"Enter your Roll Nno.: \"))\n",
        "\n",
        "firstSubject = str(input(\"Enter the name of first subject: \"))\n",
        "secondSubject = str(input(\"Enter the name of second subject: \"))\n",
        "thirdSubject = str(input(\"Enter the name of third subject: \"))\n",
        "\n",
        "\n"
      ],
      "execution_count": 3,
      "outputs": [
        {
          "name": "stdout",
          "output_type": "stream",
          "text": [
            "Enter your first name: vinay\n",
            "Enter your last name: nayak\n",
            "Enter your standard: 9\n",
            "Enter your standards' division: b\n",
            "Enter your Roll No.: 123\n",
            "Enter the name of first subject: math\n",
            "Enter the name of second subject: science\n",
            "Enter the name of third subject: geo\n"
          ]
        }
      ]
    },
    {
      "cell_type": "code",
      "metadata": {
        "colab": {
          "base_uri": "https://localhost:8080/"
        },
        "id": "wbf3diqNoU0V",
        "outputId": "0cfb8f6d-d5b0-496d-9eda-b37370774db7"
      },
      "source": [
        "fullName = firstName + \" \" + lastName\n",
        "print(fullName)"
      ],
      "execution_count": 4,
      "outputs": [
        {
          "output_type": "stream",
          "name": "stdout",
          "text": [
            "vinay nayak\n"
          ]
        }
      ]
    },
    {
      "cell_type": "code",
      "metadata": {
        "colab": {
          "base_uri": "https://localhost:8080/"
        },
        "id": "JWhbaYlRojsS",
        "outputId": "b6c3e3be-cab2-44d5-89ea-029c175db54a"
      },
      "source": [
        "\n",
        "marksInFirstSubject = float(input(\"Enter marks obtained in \" + firstSubject + \": \"))\n",
        "marksInSecondSubject = float(input(\"Enter marks obtained in \" + secondSubject + \": \"))\n",
        "marksInThirdSubject = float(input(\"Enter marks obtained in \" + thirdSubject + \": \"))\n"
      ],
      "execution_count": 5,
      "outputs": [
        {
          "name": "stdout",
          "output_type": "stream",
          "text": [
            "Enter marks obtained in math: 67\n",
            "Enter marks obtained in science: 77\n",
            "Enter marks obtained in geo: 88\n"
          ]
        }
      ]
    },
    {
      "cell_type": "code",
      "metadata": {
        "colab": {
          "base_uri": "https://localhost:8080/"
        },
        "id": "hBuVsKKJolgF",
        "outputId": "1534076e-38a3-4499-9115-607f6075086c"
      },
      "source": [
        "totalMarks = marksInFirstSubject + marksInSecondSubject + marksInThirdSubject\n",
        "print(totalMarks)"
      ],
      "execution_count": 6,
      "outputs": [
        {
          "output_type": "stream",
          "name": "stdout",
          "text": [
            "232.0\n"
          ]
        }
      ]
    },
    {
      "cell_type": "code",
      "metadata": {
        "colab": {
          "base_uri": "https://localhost:8080/"
        },
        "id": "BqLpjmvhonWV",
        "outputId": "25f2ef92-8a83-44c3-d228-3b1bd3269ec9"
      },
      "source": [
        "\n",
        "\n",
        "percentage = totalMarks/3\n",
        "print(percentage)"
      ],
      "execution_count": 7,
      "outputs": [
        {
          "output_type": "stream",
          "name": "stdout",
          "text": [
            "77.33333333333333\n"
          ]
        }
      ]
    },
    {
      "cell_type": "code",
      "metadata": {
        "colab": {
          "base_uri": "https://localhost:8080/"
        },
        "id": "18SzVE75oqXG",
        "outputId": "f5a62ff2-b446-4d2a-ddf9-1271ff2905fd"
      },
      "source": [
        "\n",
        "print(\"Name: \" + fullName)\n",
        "print(\"Class: \" + standard + \" \" + division)\n",
        "print(\"Roll No: \" + str(rollNo))\n",
        "print(\"Name of all three subjects: \" + firstSubject + \", \" + secondSubject + \", \" + thirdSubject)\n",
        "print(\"Total Marks obtained in above mentioned in three subjects is: \" + str(totalMarks))\n",
        "print(\"Percentage obtained by \" + fullName + \" is \" + str(percentage))\n"
      ],
      "execution_count": 8,
      "outputs": [
        {
          "output_type": "stream",
          "name": "stdout",
          "text": [
            "Name: vinay nayak\n",
            "Class: 9 b\n",
            "Roll No: 123\n",
            "Name of all three subjects: math, science, geo\n",
            "Total Marks obtained in above mentioned in three subjects is: 232.0\n",
            "Percentage obtained by vinay nayak is 77.33333333333333\n"
          ]
        }
      ]
    }
  ]
}